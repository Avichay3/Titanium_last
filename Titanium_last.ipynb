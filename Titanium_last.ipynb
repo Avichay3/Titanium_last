{
 "cells": [
  {
   "cell_type": "code",
   "execution_count": 1,
   "id": "6c6296a2",
   "metadata": {},
   "outputs": [],
   "source": [
    "import cv2\n",
    "import matplotlib.pyplot as plt\n",
    "import numpy as np"
   ]
  },
  {
   "cell_type": "code",
   "execution_count": 5,
   "id": "34b0da7c",
   "metadata": {},
   "outputs": [
    {
     "name": "stdout",
     "output_type": "stream",
     "text": [
      "Failed to load the image.\n"
     ]
    }
   ],
   "source": [
    "# Read the image\n",
    "img = cv2.imread('C:/Users/yoni mazin/Downloads/picturesForProject/P1MF1_C_01.tif',cv2.IMREAD_COLOR)\n",
    "if img is not None:\n",
    "    gray = cv2.cvtColor(img, cv2.COLOR_BGR2GRAY)\n",
    "\n",
    "    # Get the dimensions of the image\n",
    "    height, width = gray.shape\n",
    "\n",
    "    # Remove the bottom bar - specify the desired height\n",
    "    new_height = int(height * 0.8)  # 80% of the original height\n",
    "    img = img[:new_height, :]\n",
    "    gray = gray[:new_height, :]\n",
    "\n",
    "    plt.axis('off')\n",
    "    plt.imshow(cv2.cvtColor(gray, cv2.COLOR_GRAY2BGR))  # Convert grayscale image to BGR for display\n",
    "    plt.show()\n",
    "else:\n",
    "    print(\"Failed to load the image.\")"
   ]
  },
  {
   "cell_type": "code",
   "execution_count": null,
   "id": "06a22e48",
   "metadata": {},
   "outputs": [],
   "source": []
  }
 ],
 "metadata": {
  "kernelspec": {
   "display_name": "Python 3 (ipykernel)",
   "language": "python",
   "name": "python3"
  },
  "language_info": {
   "codemirror_mode": {
    "name": "ipython",
    "version": 3
   },
   "file_extension": ".py",
   "mimetype": "text/x-python",
   "name": "python",
   "nbconvert_exporter": "python",
   "pygments_lexer": "ipython3",
   "version": "3.11.4"
  }
 },
 "nbformat": 4,
 "nbformat_minor": 5
}
